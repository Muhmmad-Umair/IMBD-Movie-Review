{
  "nbformat": 4,
  "nbformat_minor": 0,
  "metadata": {
    "colab": {
      "private_outputs": true,
      "provenance": [],
      "gpuType": "T4",
      "cell_execution_strategy": "setup"
    },
    "kernelspec": {
      "name": "python3",
      "display_name": "Python 3"
    },
    "language_info": {
      "name": "python"
    },
    "accelerator": "GPU"
  },
  "cells": [
    {
      "cell_type": "code",
      "execution_count": null,
      "metadata": {
        "id": "IdoBfhGv8h8P"
      },
      "outputs": [],
      "source": [
        "import tensorflow as tf"
      ]
    },
    {
      "cell_type": "code",
      "source": [
        "import tensorflow_datasets as tfds\n",
        "imdb,info=tfds.load('imdb_reviews',with_info=True,as_supervised=True)"
      ],
      "metadata": {
        "id": "aNyKk2Es81gy"
      },
      "execution_count": null,
      "outputs": []
    },
    {
      "cell_type": "code",
      "source": [
        "import numpy as np\n",
        "train_data,test_data=imdb['train'],imdb['test']\n",
        "train_sentences=[]\n",
        "train_labels=[]\n",
        "test_sentences=[]\n",
        "test_labels=[]\n",
        "for s,l in train_data:\n",
        "    train_sentences.append(str(s.numpy()))\n",
        "    train_labels.append(l.numpy())\n",
        "for s,l in test_data:\n",
        "    test_sentences.append(str(s.numpy()))\n",
        "    test_labels.append(l.numpy())\n",
        "\n",
        "train_labels=np.array(train_labels)\n",
        "test_labels=np.array(test_labels)"
      ],
      "metadata": {
        "id": "-jbOiqnt9ylW"
      },
      "execution_count": null,
      "outputs": []
    },
    {
      "cell_type": "code",
      "source": [
        "vocab_size=10000\n",
        "embedding_dim=16\n",
        "max_length=120\n",
        "trunc_type='post'\n",
        "oov_tok='<OOV>'\n",
        "from tensorflow.keras.preprocessing.text import Tokenizer\n",
        "from tensorflow.keras.preprocessing.sequence import pad_sequences\n",
        "tokenizer=Tokenizer(num_words=vocab_size,oov_token=oov_tok)\n",
        "tokenizer.fit_on_texts(train_sentences)\n",
        "word_index=tokenizer.word_index\n",
        "sequences=tokenizer.texts_to_sequences(train_sentences)\n",
        "padded=pad_sequences(sequences,maxlen=max_length,truncating=trunc_type)\n",
        "testing_sequences=tokenizer.texts_to_sequences(test_sentences)\n",
        "testing_padded=pad_sequences(testing_sequences,maxlen=max_length)"
      ],
      "metadata": {
        "id": "xRh3dHjr-oDe"
      },
      "execution_count": null,
      "outputs": []
    },
    {
      "cell_type": "code",
      "source": [
        "model=tf.keras.Sequential([\n",
        "    tf.keras.layers.Embedding(vocab_size,embedding_dim,input_length=max_length),\n",
        "    tf.keras.layers.Flatten(),\n",
        "    tf.keras.layers.Dense(6,activation='relu'),\n",
        "    tf.keras.layers.Dense(1,activation='sigmoid')\n",
        "])\n",
        "model.compile(loss='binary_crossentropy',optimizer='adam',metrics=['accuracy'])\n",
        "model.summary()"
      ],
      "metadata": {
        "id": "VZ5-BVj--SJW"
      },
      "execution_count": null,
      "outputs": []
    },
    {
      "cell_type": "code",
      "source": [
        "num_epochs=10\n",
        "model.fit(padded,train_labels,epochs=num_epochs,validation_data=(testing_padded,test_labels))"
      ],
      "metadata": {
        "id": "u_6LWz3V_Yuo"
      },
      "execution_count": null,
      "outputs": []
    },
    {
      "cell_type": "code",
      "source": [
        "reverse_word_index=dict([(value,key) for (key,value) in word_index.items()])\n"
      ],
      "metadata": {
        "id": "0I2m2XYjAAvX"
      },
      "execution_count": null,
      "outputs": []
    },
    {
      "cell_type": "code",
      "source": [
        "import io\n",
        "\n",
        "# Get the weights of the embedding layer\n",
        "weights = model.layers[0].get_weights()[0]  # Assuming the embedding layer is the first layer in your model\n",
        "\n",
        "out_v = io.open('vecs.tsv', 'w', encoding='utf-8')\n",
        "out_m = io.open('meta.tsv', 'w', encoding='utf-8')\n",
        "for word_num in range(1, vocab_size):\n",
        "    word = reverse_word_index[word_num]\n",
        "    embeddings = weights[word_num]  # Now 'weights' is defined\n",
        "    out_m.write(word + '\\n')\n",
        "    out_v.write('\\t'.join([str(x) for x in embeddings]) + '\\n')\n",
        "out_v.close()\n",
        "out_m.close()"
      ],
      "metadata": {
        "id": "w_TEsh-TAZNn"
      },
      "execution_count": null,
      "outputs": []
    }
  ]
}